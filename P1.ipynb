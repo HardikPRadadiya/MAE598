{
  "nbformat": 4,
  "nbformat_minor": 0,
  "metadata": {
    "colab": {
      "provenance": []
    },
    "kernelspec": {
      "name": "python3",
      "display_name": "Python 3"
    },
    "language_info": {
      "name": "python"
    }
  },
  "cells": [
    {
      "cell_type": "code",
      "execution_count": 23,
      "metadata": {
        "id": "89pxFpqu1C4x"
      },
      "outputs": [],
      "source": [
        "import torch\n",
        "import numpy as np\n",
        "from torch.autograd import Variable\n",
        "import matplotlib.pyplot as plt\n",
        "from IPython import display\n"
      ]
    },
    {
      "cell_type": "code",
      "source": [
        "X_1 = np.array([[0.0, 0.1, 0.2, 0.3, 0.4, 0.5, 0.6, 0.7, 0.8, 0.9, 1.0 ]])\n",
        "X_2 = np.flip(X_1, axis=1).copy()\n",
        "a = np.array(([[8.07131, 1730.63, 233.426], [7.43155, 1554.679, 240.337]]))\n",
        "T=20\n",
        "pw = 10 ** (a[0, 0] - a[0, 1] / (T + a[0, 2]))\n",
        "pd = 10 ** (a[1, 0] - a[1, 1] / (T + a[1, 2]))\n",
        "P = np.array([[28.1, 34.4, 36.7, 36.9, 36.8, 36.7, 36.5, 35.4, 32.9, 27.7, 17.5]])\n",
        "P = torch.tensor(P, requires_grad=False, dtype=torch.float32)\n",
        "\n",
        "A = Variable(torch.tensor([1.0, 1.0]), requires_grad=True)\n",
        "\n",
        "X_1 = torch.tensor(X_1, requires_grad=False, dtype=torch.float32)\n",
        "X_2 = torch.tensor(X_2, requires_grad=False, dtype=torch.float32)\n",
        "\n",
        "a= 0.001\n",
        "\n",
        "for i in range(100):\n",
        "  Pred = X_1 * torch.exp(A[0] * (A[1] * X_2 / (A[0] * X_1 + A[1] *X_2)) ** 2) * pw + \\\n",
        "      X_2 * torch.exp(A[1] * (A[0] * X_1 / (A[0] * X_1 + A[1] *X_2)) ** 2) * pd\n",
        "  \n",
        "  l_s = (Pred - P) ** 2\n",
        "  l_s = l_s.sum()\n",
        "\n",
        "  l_s.backward()\n",
        "\n",
        "  with torch.no_grad():\n",
        "    A -= a * A.grad\n",
        "\n",
        "    A.grad.zero_()\n",
        "\n",
        "print('Estimated A12 A21',A)\n",
        "print('final Loss',l_s.data.numpy())\n",
        "\n",
        "\n"
      ],
      "metadata": {
        "colab": {
          "base_uri": "https://localhost:8080/",
          "height": 0
        },
        "id": "cAOKVcSB1Xxb",
        "outputId": "92907276-2f5e-45b3-a362-cdc44ca40516"
      },
      "execution_count": 25,
      "outputs": [
        {
          "output_type": "stream",
          "name": "stdout",
          "text": [
            "Estimated A12 A21 tensor([1.9584, 1.6892], requires_grad=True)\n",
            "final Loss 0.67019325\n"
          ]
        }
      ]
    },
    {
      "cell_type": "code",
      "source": [
        "\n",
        "Pred = Pred.detach().numpy()[0]\n",
        "P = P.detach().numpy()[0]\n",
        "X_1 = X_1.detach().numpy()[0]\n",
        "\n",
        "plt.plot(X_1, Pred, label='Predicted pressure')\n",
        "plt.plot(X_1, P, label='Actual Pressure')\n",
        "plt.xlabel('X1')\n",
        "plt.ylabel('Pressure')\n",
        "plt.legend()\n",
        "plt.title(\"Comparison\")\n",
        "plt.show()\n"
      ],
      "metadata": {
        "colab": {
          "base_uri": "https://localhost:8080/",
          "height": 296
        },
        "id": "6b9z9w9T6flJ",
        "outputId": "64842a98-a348-4e39-c5e6-507917f4c7aa"
      },
      "execution_count": 21,
      "outputs": [
        {
          "output_type": "display_data",
          "data": {
            "text/plain": [
              "<Figure size 432x288 with 1 Axes>"
            ],
            "image/png": "[encoded data removed]"
          },
          "metadata": {
            "needs_background": "light"
          }
        }
      ]
    }
  ]
}