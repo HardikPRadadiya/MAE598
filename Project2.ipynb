{
  "nbformat": 4,
  "nbformat_minor": 0,
  "metadata": {
    "colab": {
      "provenance": []
    },
    "kernelspec": {
      "name": "python3",
      "display_name": "Python 3"
    },
    "language_info": {
      "name": "python"
    }
  },
  "cells": [
    {
      "cell_type": "code",
      "execution_count": null,
      "metadata": {
        "id": "upYmRtl-dvmM"
      },
      "outputs": [],
      "source": []
    },
    {
      "cell_type": "markdown",
      "source": [
        "\n",
        "**Topology Optimization Solution**\n",
        "\n",
        "We give the defined boundary condition to see the topology optimization: set fix DOFs at the left side of the beam and keep rest parts free. Then implement loading for the center and right side of the beam (see below figure). The input variables for the topology optimization are as below:\n",
        "\n",
        "Number of element in x: 150\n",
        "Number of element in y: 50\n",
        "Volume Fraction: 0.6\n",
        "Penalty: 3.0\n",
        "Filter-radius: 2\n",
        "Filter Method: Sensitivity filtering, which is set as 1\n",
        "Below is the MATLAB code with objective function and boundary condition setting"
      ],
      "metadata": {
        "id": "Mgyc_0FPdxLT"
      }
    },
    {
      "cell_type": "markdown",
      "source": [
        "Below is the MATLAB code with objective function and boundary condition setting.\n",
        "\n"
      ],
      "metadata": {
        "id": "bD8n1yZPeajV"
      }
    },
    {
      "cell_type": "code",
      "source": [
        "function top88(nelx,nely,volfrac,penal,rmin,ft)\n",
        "%% MATERIAL PROPERTIES\n",
        "E0 = 1;\n",
        "Emin = 1e-9;\n",
        "nu = 0.3;\n",
        "%% PREPARE FINITE ELEMENT ANALYSIS\n",
        "A11 = [12  3 -6 -3;  3 12  3  0; -6  3 12 -3; -3  0 -3 12];\n",
        "A12 = [-6 -3  0  3; -3 -6 -3 -6;  0 -3 -6  3;  3 -6  3 -6];\n",
        "B11 = [-4  3 -2  9;  3 -4 -9  4; -2 -9 -4 -3;  9  4 -3 -4];\n",
        "B12 = [ 2 -3  4 -9; -3  2  9 -2;  4  9  2  3; -9 -2  3  2];\n",
        "KE = 1/(1-nu^2)/24*([A11 A12;A12' A11]+nu*[B11 B12;B12' B11]);\n",
        "nodenrs = reshape(1:(1+nelx)*(1+nely),1+nely,1+nelx);\n",
        "edofVec = reshape(2*nodenrs(1:end-1,1:end-1)+1,nelx*nely,1);\n",
        "edofMat = repmat(edofVec,1,8)+repmat([0 1 2*nely+[2 3 0 1] -2 -1],nelx*nely,1);\n",
        "iK = reshape(kron(edofMat,ones(8,1))',64*nelx*nely,1);\n",
        "jK = reshape(kron(edofMat,ones(1,8))',64*nelx*nely,1);\n",
        "% DEFINE LOADS AND SUPPORTS (HALF MBB-BEAM)\n",
        "F = sparse([2*(nely+1)*nelx+2,2*(nely+1)*(nelx/2)+2*(nely+1)],[1 2],[1 -1],2*(nely+1)*(nelx+1),2);\n",
        "U = zeros(2*(nely+1)*(nelx+1),2);\n",
        "fixeddofs = [1:2*nely+1];\n",
        "alldofs = [1:2*(nely+1)*(nelx+1)];\n",
        "freedofs = setdiff(alldofs,fixeddofs);\n",
        "%% PREPARE FILTER\n",
        "iH = ones(nelx*nely*(2*(ceil(rmin)-1)+1)^2,1);\n",
        "jH = ones(size(iH));\n",
        "sH = zeros(size(iH));\n",
        "k = 0;\n",
        "for i1 = 1:nelx\n",
        "  for j1 = 1:nely\n",
        "    e1 = (i1-1)*nely+j1;\n",
        "    for i2 = max(i1-(ceil(rmin)-1),1):min(i1+(ceil(rmin)-1),nelx)\n",
        "      for j2 = max(j1-(ceil(rmin)-1),1):min(j1+(ceil(rmin)-1),nely)\n",
        "        e2 = (i2-1)*nely+j2;\n",
        "        k = k+1;\n",
        "        iH(k) = e1;\n",
        "        jH(k) = e2;\n",
        "        sH(k) = max(0,rmin-sqrt((i1-i2)^2+(j1-j2)^2));\n",
        "      end\n",
        "    end\n",
        "  end\n",
        "end\n",
        "H = sparse(iH,jH,sH);\n",
        "Hs = sum(H,2);\n",
        "%% INITIALIZE ITERATION\n",
        "x = repmat(volfrac,nely,nelx);\n",
        "xPhys = x;\n",
        "loop = 0;\n",
        "change = 1;\n",
        "%% START ITERATION\n",
        "while change > 0.01\n",
        "  loop = loop + 1;\n",
        "  %% FE-ANALYSIS\n",
        "  sK = reshape(KE(:)*(Emin+xPhys(:)'.^penal*(E0-Emin)),64*nelx*nely,1);\n",
        "  K = sparse(iK,jK,sK); \n",
        "  K = (K+K')/2;\n",
        "  U(freedofs, :) = K(freedofs,freedofs)\\F(freedofs, :);\n",
        "  %% OBJECTIVE FUNCTION AND SENSITIVITY ANALYSIS  \n",
        "  c=0;\n",
        "  dc=0;\n",
        "  for i = 1:size(F,2)\n",
        "  Ui = U(:,i);\n",
        "  ce = reshape(sum((Ui(edofMat)*KE).*Ui(edofMat),2), nely,nelx);\n",
        "  c = c + sum(sum((Emin+xPhys.^penal*(E0-Emin)).*ce));\n",
        "  dc = dc - penal*(E0-Emin)*xPhys.^(penal-1).*ce;\n",
        "  end\n",
        "  dv = ones(nely,nelx);\n",
        "  %% FILTERING/MODIFICATION OF SENSITIVITIES\n",
        "  if ft == 1\n",
        "    dc(:) = H*(x(:).*dc(:))./Hs./max(1e-3,x(:));\n",
        "  elseif ft == 2\n",
        "    dc(:) = H*(dc(:)./Hs);\n",
        "    dv(:) = H*(dv(:)./Hs);\n",
        "  end\n",
        "  %% OPTIMALITY CRITERIA UPDATE OF DESIGN VARIABLES AND PHYSICAL DENSITIES\n",
        "  l1 = 0; l2 = 1e9; move = 0.2;\n",
        "  while (l2-l1)/(l1+l2) > 1e-3\n",
        "    lmid = 0.5*(l2+l1);\n",
        "    xnew = max(0,max(x-move,min(1,min(x+move,x.*sqrt(-dc./dv/lmid)))));\n",
        "    xPhys = xnew;\n",
        "    if sum(xPhys(:)) > volfrac*nelx*nely \n",
        "        l1 = lmid; \n",
        "    else \n",
        "        l2 = lmid; \n",
        "    end\n",
        "  end\n",
        "  change = max(abs(xnew(:)-x(:)));\n",
        "  x = xnew;\n",
        "  %% PRINT RESULTS\n",
        "  fprintf(' It.:%5i Obj.:%11.4f Vol.:%7.3f ch.:%7.3f\\n',loop,c, mean(xPhys(:)),change);\n",
        "  %% PLOT DENSITIES\n",
        "  colormap(gray); imagesc(1-xPhys); caxis([0 1]); axis equal; axis off; drawnow;\n",
        "  filename = sprintf('%s%s%s','image/testAnimated',num2str(loop),'.jpg');\n",
        "  saveas(gcf, filename); \n",
        "end"
      ],
      "metadata": {
        "id": "lPK9rHgXeAQa"
      },
      "execution_count": null,
      "outputs": []
    }
  ]
}