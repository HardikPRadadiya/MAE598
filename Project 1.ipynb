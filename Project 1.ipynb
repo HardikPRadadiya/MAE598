{
  "nbformat": 4,
  "nbformat_minor": 0,
  "metadata": {
    "colab": {
      "provenance": []
    },
    "kernelspec": {
      "name": "python3",
      "display_name": "Python 3"
    },
    "language_info": {
      "name": "python"
    }
  },
  "cells": [
    {
      "cell_type": "code",
      "source": [
        "import logging\n",
        "import math\n",
        "import random\n",
        "import numpy as np\n",
        "import time\n",
        "import torch \n",
        "import torch.nn as nn\n",
        "from torch import optim\n",
        "from torch.nn import utils\n",
        "import matplotlib.pyplot as plt\n",
        "\n",
        "logger = logging.getLogger(__name__)"
      ],
      "metadata": {
        "id": "PDZ2z5alVmtK"
      },
      "execution_count": 8,
      "outputs": []
    },
    {
      "cell_type": "code",
      "source": [
        "# environment parameters\n",
        "\n",
        "FRAME_TIME = 0.1  # time interval\n",
        "GRAVITY_ACCEL_Y = 0.12  # gravity constant in Y direction\n",
        "GRAVITY_ACCEL_X =0.\n",
        "BOOST_ACCEL = 0.18  # thrust constant"
      ],
      "metadata": {
        "id": "TyuBmTJ7Vmz1"
      },
      "execution_count": 9,
      "outputs": []
    },
    {
      "cell_type": "code",
      "source": [
        "class Dynamics(nn.Module):\n",
        "\n",
        "    def __init__(self):\n",
        "        super(Dynamics, self).__init__()\n",
        "\n",
        "    def forward(self, state, action):\n",
        "        \"\"\"\n",
        "        action[0] = thrust \n",
        "        action[1] = theta_dot\n",
        "\n",
        "        state[0] = x\n",
        "        state[1] = y\n",
        "        state[2] = vx\n",
        "        state[3] = vy\n",
        "        state[4] = theta\n",
        "        \"\"\"\n",
        "        # Apply gravity\n",
        "        # Note: Here gravity is used to change velocity which is the second element of the state vector\n",
        "        # Normally, we would do x[1] = x[1] + gravity * delta_time\n",
        "        # but this is not allowed in PyTorch since it overwrites one variable (x[1]) that is part of the computational graph to be differentiated.\n",
        "        # Therefore, I define a tensor dx = [0., gravity * delta_time], and do x = x + dx. This is allowed... @cc antantantant (Prof Max Yi Ren)\n",
        "\n",
        "        delta_state_gravity = torch.tensor([0., 0.,-GRAVITY_ACCEL_X * FRAME_TIME, -GRAVITY_ACCEL_Y * FRAME_TIME, 0.])\n",
        "\n",
        "        # Thrust for N initial state\n",
        "        # N = len(state)\n",
        "        state_tensor = torch.zeros((1, 5))\n",
        "        state_tensor[0, 2] = torch.cos(state[0, 4])\n",
        "        state_tensor[0, 3] = torch.sin(state[0, 4])\n",
        "    \n",
        "        delta_state = BOOST_ACCEL * FRAME_TIME * torch.mul(state_tensor, action[0, 0].reshape(-1, 1))\n",
        "\n",
        "        # Theta\n",
        "        delta_state_theta = FRAME_TIME * torch.mul(torch.tensor([0., 0., 0., 0, 1.]),(action[0, 1]).reshape(-1, 1)) \n",
        "     \n",
        "\n",
        "        state = state + delta_state  + delta_state_gravity + delta_state_theta \n",
        "       \n",
        "       \n",
        "        # Update state\n",
        "        step_matrix = torch.tensor([[1., 0.,FRAME_TIME, 0., 0.],\n",
        "                                 [0., 1., 0., FRAME_TIME, 0.],\n",
        "                                 [0., 0., 1.,0., 0.],\n",
        "                                 [0., 0., 0., 1., 0.],\n",
        "                                 [0., 0., 0., 0., 1.]])\n",
        "\n",
        "        state = torch.matmul(step_matrix, state.T)\n",
        "            \n",
        "\n",
        "        return state.T"
      ],
      "metadata": {
        "id": "-NCgNM76VtQ8"
      },
      "execution_count": 10,
      "outputs": []
    },
    {
      "cell_type": "code",
      "source": [
        "class Controller(nn.Module):\n",
        "    def __init__(self, dim_input, dim_hidden, dim_output):\n",
        "        \"\"\"\n",
        "        dim_input: # of system states\n",
        "        dim_output: # of actions\n",
        "        dim_hidden: \n",
        "        \"\"\"\n",
        "        super(Controller, self).__init__()\n",
        "\n",
        "        self.network = nn.Sequential(\n",
        "            nn.Linear(dim_input, dim_hidden),\n",
        "            nn.Tanh(),\n",
        "            nn.Linear(dim_hidden, dim_output),\n",
        "            nn.Sigmoid())\n",
        "           \n",
        "\n",
        "    def forward(self, state):\n",
        "        action = self.network(state)\n",
        "        action = 2*action - torch.tensor([0, 1])  # bound theta_dot range -1 to 1\n",
        "        return action"
      ],
      "metadata": {
        "id": "9whk8pQ-Vx0i"
      },
      "execution_count": 27,
      "outputs": []
    },
    {
      "cell_type": "code",
      "source": [
        "class Simulation(nn.Module):\n",
        "\n",
        "    def __init__(self, controller, dynamics, T):\n",
        "        super(Simulation, self).__init__()\n",
        "        self.state = self.initialize_state()\n",
        "        self.controller = controller\n",
        "        self.dynamics = dynamics\n",
        "        self.T = T\n",
        "        self.theta_trajectory = torch.empty((1, 0))\n",
        "        self.u_trajectory = torch.empty((1, 0))\n",
        "\n",
        "    def forward(self, state):\n",
        "        self.action_trajectory = []\n",
        "        self.state_trajectory = []\n",
        "        for _ in range(T):\n",
        "            action = self.controller(state)\n",
        "            state = self.dynamics(state, action)\n",
        "            self.action_trajectory.append(action)\n",
        "            self.state_trajectory.append(state)\n",
        "        return self.error(state)\n",
        "\n",
        "    @staticmethod\n",
        "    def initialize_state():\n",
        "        # state = [1., 0.]  # TODO: need batch of initial states\n",
        "        state = [[1.,1.,0.,0.,0.]]\n",
        "        return torch.tensor(state, requires_grad=False).float()\n",
        "\n",
        "    def error(self, state):\n",
        "        return torch.mean(state ** 2)"
      ],
      "metadata": {
        "id": "PXkkuxI8VyoZ"
      },
      "execution_count": 12,
      "outputs": []
    },
    {
      "cell_type": "code",
      "source": [
        "class Optimize:\n",
        "    \n",
        "    # create properties of the class (simulation, parameters, optimizer, lost_list). Where to receive input of objects\n",
        "    \n",
        "    def __init__(self, simulation):\n",
        "        self.simulation = simulation # define the objective function\n",
        "        self.parameters = simulation.controller.parameters()\n",
        "        self.optimizer = optim.LBFGS(self.parameters, lr=0.01) # define the opmization algorithm\n",
        "        # self.optimizer = optim.SGD(self.parameters, lr=0.01)\n",
        "        # optim.Adam\n",
        "        self.loss_list = []\n",
        "\n",
        "    # Define loss calculation method for objective function\n",
        "    \n",
        "    def step(self):\n",
        "        def closure():\n",
        "            loss = self.simulation(self.simulation.state)  # calculate the loss of objective function\n",
        "            self.optimizer.zero_grad()\n",
        "            loss.backward() # calculate the gradient\n",
        "            return loss\n",
        "\n",
        "        self.optimizer.step(closure)\n",
        "        return closure()\n",
        "\n",
        "    # Define training method for the model\n",
        "    \n",
        "\n",
        "    def train(self, epochs):\n",
        "        l = np.zeros(epochs)\n",
        "        for epoch in range(epochs):\n",
        "            loss = self.step() # use step function to train the model\n",
        "            self.loss_list.append(loss) # add loss to the loss_list\n",
        "            print('[%d] loss: %.3f' % (epoch + 1, loss))\n",
        "\n",
        "            l[epoch]=loss\n",
        "            \n",
        "        plt.plot(list(range(epochs)), l, color = \"r\")\n",
        "            \n",
        "        plt.title('Convergence Curve')\n",
        "        plt.xlabel(' Iteration for training')\n",
        "        plt.ylabel('Error')\n",
        "        plt\n",
        "\n",
        "        plt.show()\n",
        "        self.visualize()\n",
        "        \n",
        "        \n",
        "    # Define result visualization method\n",
        "\n",
        "    def visualize(self):\n",
        "        data = np.array([self.simulation.state_trajectory[i][0].detach().numpy() for i in range(self.simulation.T)])\n",
        "        x = data[:, 0]\n",
        "        y = data[:, 1]\n",
        "        vx = data[:, 2]\n",
        "        vy = data[:, 3]\n",
        "        theta = data[:, 4]\n",
        "        plt.plot(x, y, color=\"r\")\n",
        "        plt.title(\"X postion with respect to Y \")\n",
        "        plt.xlabel('x')\n",
        "        plt.ylabel('y')\n",
        "        plt.show()\n",
        "        plt.plot(vx, y, color=\"r\")\n",
        "        plt.xlabel('vx')\n",
        "        plt.ylabel('y')\n",
        "        plt.show()\n",
        "        plt.plot(vy, y, color=\"r\")\n",
        "        plt.xlabel('vy')\n",
        "        plt.ylabel('y')\n",
        "        plt.show()\n",
        "        plt.plot(theta, y, color=\"r\")\n",
        "        plt.xlabel('theta')\n",
        "        plt.ylabel('y')\n",
        "        plt.show()\n",
        "\n",
        "        action_data = np.array([self.simulation.action_trajectory[i][0].detach().numpy() for i in range(self.simulation.T)])\n",
        "        thrust = action_data[:,0]\n",
        "        theta_dot = action_data[:,0]"
      ],
      "metadata": {
        "id": "iDZKlpbqV01B"
      },
      "execution_count": 64,
      "outputs": []
    },
    {
      "cell_type": "code",
      "source": [
        "T = 100  # number of time steps\n",
        "dim_input = 5  # state space dimensions\n",
        "dim_hidden = 12  # latent dimensions\n",
        "dim_output = 2  # action space dimensions\n",
        "d = Dynamics()  \n",
        "c = Controller(dim_input, dim_hidden, dim_output)  \n",
        "s = Simulation(c, d, T)  \n",
        "o = Optimize(s)  \n",
        "o.train(25)  # training with number of epochs"
      ],
      "metadata": {
        "colab": {
          "base_uri": "https://localhost:8080/",
          "height": 1000
        },
        "id": "L1JH1EusV4fV",
        "outputId": "600f158c-390b-4482-eefa-51f98177cfd0"
      },
      "execution_count": 67,
      "outputs": [
        {
          "output_type": "stream",
          "name": "stdout",
          "text": [
            "[1] loss: 9.028\n",
            "[2] loss: 6.640\n",
            "[3] loss: 5.172\n",
            "[4] loss: 4.126\n",
            "[5] loss: 3.026\n",
            "[6] loss: 1.588\n",
            "[7] loss: 0.842\n",
            "[8] loss: 0.503\n",
            "[9] loss: 0.304\n",
            "[10] loss: 0.190\n",
            "[11] loss: 0.122\n",
            "[12] loss: 0.076\n",
            "[13] loss: 0.046\n",
            "[14] loss: 0.028\n",
            "[15] loss: 0.017\n",
            "[16] loss: 0.010\n",
            "[17] loss: 0.006\n",
            "[18] loss: 0.004\n",
            "[19] loss: 0.002\n",
            "[20] loss: 0.002\n",
            "[21] loss: 0.001\n",
            "[22] loss: 0.001\n",
            "[23] loss: 0.000\n",
            "[24] loss: 0.000\n",
            "[25] loss: 0.000\n"
          ]
        },
        {
          "output_type": "display_data",
          "data": {
            "text/plain": [
              "<Figure size 432x288 with 1 Axes>"
            ],
            "image/png": "[encoded data removed]"
          },
          "metadata": {
            "needs_background": "light"
          }
        },
        {
          "output_type": "display_data",
          "data": {
            "text/plain": [
              "<Figure size 432x288 with 1 Axes>"
            ],
            "image/png": "[encoded data removed]"
          },
          "metadata": {
            "needs_background": "light"
          }
        },
        {
          "output_type": "display_data",
          "data": {
            "text/plain": [
              "<Figure size 432x288 with 1 Axes>"
            ],
            "image/png": "[encoded data removed]"
          },
          "metadata": {
            "needs_background": "light"
          }
        },
        {
          "output_type": "display_data",
          "data": {
            "text/plain": [
              "<Figure size 432x288 with 1 Axes>"
            ],
            "image/png": "[encoded data removed]"
          },
          "metadata": {
            "needs_background": "light"
          }
        },
        {
          "output_type": "display_data",
          "data": {
            "text/plain": [
              "<Figure size 432x288 with 1 Axes>"
            ],
            "image/png": "[encoded data removed]"
          },
          "metadata": {
            "needs_background": "light"
          }
        }
      ]
    }
  ]
}