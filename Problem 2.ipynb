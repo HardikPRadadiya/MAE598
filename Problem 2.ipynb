{
  "nbformat": 4,
  "nbformat_minor": 0,
  "metadata": {
    "colab": {
      "provenance": [],
      "collapsed_sections": []
    },
    "kernelspec": {
      "name": "python3",
      "display_name": "Python 3"
    },
    "language_info": {
      "name": "python"
    }
  },
  "cells": [
    {
      "cell_type": "code",
      "source": [
        "pip install bayesian-optimization"
      ],
      "metadata": {
        "colab": {
          "base_uri": "https://localhost:8080/",
          "height": 0
        },
        "id": "StoZwchqySfE",
        "outputId": "87ea87ca-3e4a-4805-8f24-b737bc379393"
      },
      "execution_count": 2,
      "outputs": [
        {
          "output_type": "stream",
          "name": "stdout",
          "text": [
            "Looking in indexes: https://pypi.org/simple, https://us-python.pkg.dev/colab-wheels/public/simple/\n",
            "Collecting bayesian-optimization\n",
            "  Downloading bayesian-optimization-1.2.0.tar.gz (14 kB)\n",
            "Requirement already satisfied: numpy>=1.9.0 in /usr/local/lib/python3.7/dist-packages (from bayesian-optimization) (1.21.6)\n",
            "Requirement already satisfied: scipy>=0.14.0 in /usr/local/lib/python3.7/dist-packages (from bayesian-optimization) (1.7.3)\n",
            "Requirement already satisfied: scikit-learn>=0.18.0 in /usr/local/lib/python3.7/dist-packages (from bayesian-optimization) (1.0.2)\n",
            "Requirement already satisfied: joblib>=0.11 in /usr/local/lib/python3.7/dist-packages (from scikit-learn>=0.18.0->bayesian-optimization) (1.2.0)\n",
            "Requirement already satisfied: threadpoolctl>=2.0.0 in /usr/local/lib/python3.7/dist-packages (from scikit-learn>=0.18.0->bayesian-optimization) (3.1.0)\n",
            "Building wheels for collected packages: bayesian-optimization\n",
            "  Building wheel for bayesian-optimization (setup.py) ... \u001b[?25l\u001b[?25hdone\n",
            "  Created wheel for bayesian-optimization: filename=bayesian_optimization-1.2.0-py3-none-any.whl size=11685 sha256=e8982c7cedc1f43a0ac68a8e6de5ac4ec58fc4d3bbda8ff5074f41155c1a83e7\n",
            "  Stored in directory: /root/.cache/pip/wheels/fd/9b/71/f127d694e02eb40bcf18c7ae9613b88a6be4470f57a8528c5b\n",
            "Successfully built bayesian-optimization\n",
            "Installing collected packages: bayesian-optimization\n",
            "Successfully installed bayesian-optimization-1.2.0\n"
          ]
        }
      ]
    },
    {
      "cell_type": "code",
      "execution_count": 32,
      "metadata": {
        "id": "Y1C368MtxT4L"
      },
      "outputs": [],
      "source": [
        "def black_box_function(x, y):\n",
        "   \n",
        "    return -((4-(2.1 * x ** 2) + ((x ** 4)/3)) *( x ** 2) + x * y + (4 * y ** 2 - 4) * (y ** 2))"
      ]
    },
    {
      "cell_type": "code",
      "source": [
        "from bayes_opt import BayesianOptimization\n",
        "\n",
        "# Bounded region of parameter space\n",
        "pbounds = {'x': (-3, 3), 'y': (-2, 2)}\n",
        "\n",
        "optimizer = BayesianOptimization(\n",
        "    f=black_box_function,\n",
        "    pbounds=pbounds,\n",
        "    random_state=1,\n",
        ")\n"
      ],
      "metadata": {
        "id": "14WYv3gixgMU"
      },
      "execution_count": 33,
      "outputs": []
    },
    {
      "cell_type": "code",
      "source": [
        "optimizer.maximize(\n",
        "    init_points=25,\n",
        "    n_iter=100,\n",
        ")\n",
        "print(optimizer.max)"
      ],
      "metadata": {
        "colab": {
          "base_uri": "https://localhost:8080/",
          "height": 0
        },
        "id": "cYGWSAzWxhBL",
        "outputId": "419e44ac-7b99-419d-900c-011ec4b802c6"
      },
      "execution_count": 34,
      "outputs": [
        {
          "output_type": "stream",
          "name": "stdout",
          "text": [
            "|   iter    |  target   |     x     |     y     |\n",
            "-------------------------------------------------\n",
            "| \u001b[0m 1       \u001b[0m | \u001b[0m 0.265   \u001b[0m | \u001b[0m-0.4979  \u001b[0m | \u001b[0m 0.8813  \u001b[0m |\n",
            "| \u001b[0m 2       \u001b[0m | \u001b[0m-110.1   \u001b[0m | \u001b[0m-2.999   \u001b[0m | \u001b[0m-0.7907  \u001b[0m |\n",
            "| \u001b[0m 3       \u001b[0m | \u001b[0m-26.91   \u001b[0m | \u001b[0m-2.119   \u001b[0m | \u001b[0m-1.631   \u001b[0m |\n",
            "| \u001b[0m 4       \u001b[0m | \u001b[0m-2.856   \u001b[0m | \u001b[0m-1.882   \u001b[0m | \u001b[0m-0.6178  \u001b[0m |\n",
            "| \u001b[0m 5       \u001b[0m | \u001b[0m-1.054   \u001b[0m | \u001b[0m-0.6194  \u001b[0m | \u001b[0m 0.1553  \u001b[0m |\n",
            "| \u001b[95m 6       \u001b[0m | \u001b[95m 0.5211  \u001b[0m | \u001b[95m-0.4848  \u001b[0m | \u001b[95m 0.7409  \u001b[0m |\n",
            "| \u001b[0m 7       \u001b[0m | \u001b[0m-11.28   \u001b[0m | \u001b[0m-1.773   \u001b[0m | \u001b[0m 1.512   \u001b[0m |\n",
            "| \u001b[0m 8       \u001b[0m | \u001b[0m-66.76   \u001b[0m | \u001b[0m-2.836   \u001b[0m | \u001b[0m 0.6819  \u001b[0m |\n",
            "| \u001b[0m 9       \u001b[0m | \u001b[0m-0.5377  \u001b[0m | \u001b[0m-0.4962  \u001b[0m | \u001b[0m 0.2348  \u001b[0m |\n",
            "| \u001b[0m 10      \u001b[0m | \u001b[0m-12.02   \u001b[0m | \u001b[0m-2.158   \u001b[0m | \u001b[0m-1.208   \u001b[0m |\n",
            "| \u001b[0m 11      \u001b[0m | \u001b[0m-40.85   \u001b[0m | \u001b[0m 1.804   \u001b[0m | \u001b[0m 1.873   \u001b[0m |\n",
            "| \u001b[0m 12      \u001b[0m | \u001b[0m-0.5433  \u001b[0m | \u001b[0m-1.119   \u001b[0m | \u001b[0m 0.7693  \u001b[0m |\n",
            "| \u001b[0m 13      \u001b[0m | \u001b[0m-28.42   \u001b[0m | \u001b[0m 2.258   \u001b[0m | \u001b[0m 1.578   \u001b[0m |\n",
            "| \u001b[0m 14      \u001b[0m | \u001b[0m-60.72   \u001b[0m | \u001b[0m-2.49    \u001b[0m | \u001b[0m-1.844   \u001b[0m |\n",
            "| \u001b[0m 15      \u001b[0m | \u001b[0m-12.29   \u001b[0m | \u001b[0m-1.981   \u001b[0m | \u001b[0m 1.513   \u001b[0m |\n",
            "| \u001b[0m 16      \u001b[0m | \u001b[0m-18.1    \u001b[0m | \u001b[0m-2.41    \u001b[0m | \u001b[0m-0.3156  \u001b[0m |\n",
            "| \u001b[0m 17      \u001b[0m | \u001b[0m-54.18   \u001b[0m | \u001b[0m 2.747   \u001b[0m | \u001b[0m 0.1327  \u001b[0m |\n",
            "| \u001b[0m 18      \u001b[0m | \u001b[0m-0.547   \u001b[0m | \u001b[0m 1.151   \u001b[0m | \u001b[0m-0.7379  \u001b[0m |\n",
            "| \u001b[0m 19      \u001b[0m | \u001b[0m-9.541   \u001b[0m | \u001b[0m 1.119   \u001b[0m | \u001b[0m 1.339   \u001b[0m |\n",
            "| \u001b[0m 20      \u001b[0m | \u001b[0m-78.3    \u001b[0m | \u001b[0m-2.89    \u001b[0m | \u001b[0m 1.001   \u001b[0m |\n",
            "| \u001b[0m 21      \u001b[0m | \u001b[0m-94.1    \u001b[0m | \u001b[0m 2.933   \u001b[0m | \u001b[0m 0.9927  \u001b[0m |\n",
            "| \u001b[0m 22      \u001b[0m | \u001b[0m-2.65    \u001b[0m | \u001b[0m-1.317   \u001b[0m | \u001b[0m 1.157   \u001b[0m |\n",
            "| \u001b[0m 23      \u001b[0m | \u001b[0m-16.23   \u001b[0m | \u001b[0m-2.381   \u001b[0m | \u001b[0m-0.2084  \u001b[0m |\n",
            "| \u001b[0m 24      \u001b[0m | \u001b[0m-17.66   \u001b[0m | \u001b[0m 2.452   \u001b[0m | \u001b[0m-0.8255  \u001b[0m |\n",
            "| \u001b[0m 25      \u001b[0m | \u001b[0m-14.7    \u001b[0m | \u001b[0m-1.273   \u001b[0m | \u001b[0m-1.48    \u001b[0m |\n",
            "| \u001b[0m 26      \u001b[0m | \u001b[0m-1.656   \u001b[0m | \u001b[0m 0.7797  \u001b[0m | \u001b[0m 0.2837  \u001b[0m |\n",
            "| \u001b[0m 27      \u001b[0m | \u001b[0m 0.2303  \u001b[0m | \u001b[0m 0.1341  \u001b[0m | \u001b[0m-0.9774  \u001b[0m |\n",
            "| \u001b[0m 28      \u001b[0m | \u001b[0m-48.24   \u001b[0m | \u001b[0m 0.9903  \u001b[0m | \u001b[0m-2.0     \u001b[0m |\n",
            "| \u001b[0m 29      \u001b[0m | \u001b[0m-47.94   \u001b[0m | \u001b[0m-0.03404 \u001b[0m | \u001b[0m 2.0     \u001b[0m |\n",
            "| \u001b[0m 30      \u001b[0m | \u001b[0m-150.9   \u001b[0m | \u001b[0m 3.0     \u001b[0m | \u001b[0m-2.0     \u001b[0m |\n",
            "| \u001b[0m 31      \u001b[0m | \u001b[0m-1.997   \u001b[0m | \u001b[0m 1.665   \u001b[0m | \u001b[0m-0.03058 \u001b[0m |\n",
            "| \u001b[0m 32      \u001b[0m | \u001b[0m-47.64   \u001b[0m | \u001b[0m-0.3553  \u001b[0m | \u001b[0m-1.986   \u001b[0m |\n",
            "| \u001b[0m 33      \u001b[0m | \u001b[0m 0.2102  \u001b[0m | \u001b[0m 0.2554  \u001b[0m | \u001b[0m-0.3256  \u001b[0m |\n",
            "| \u001b[0m 34      \u001b[0m | \u001b[0m-0.7912  \u001b[0m | \u001b[0m-0.6426  \u001b[0m | \u001b[0m-0.7307  \u001b[0m |\n",
            "| \u001b[0m 35      \u001b[0m | \u001b[0m 0.03607 \u001b[0m | \u001b[0m 0.3084  \u001b[0m | \u001b[0m 0.887   \u001b[0m |\n",
            "| \u001b[0m 36      \u001b[0m | \u001b[0m-2.285   \u001b[0m | \u001b[0m 1.492   \u001b[0m | \u001b[0m 0.7386  \u001b[0m |\n",
            "| \u001b[0m 37      \u001b[0m | \u001b[0m-0.02549 \u001b[0m | \u001b[0m 1.823   \u001b[0m | \u001b[0m-0.7178  \u001b[0m |\n",
            "| \u001b[0m 38      \u001b[0m | \u001b[0m-0.5451  \u001b[0m | \u001b[0m-1.737   \u001b[0m | \u001b[0m 0.4849  \u001b[0m |\n",
            "| \u001b[0m 39      \u001b[0m | \u001b[0m-2.423   \u001b[0m | \u001b[0m-1.362   \u001b[0m | \u001b[0m-0.1082  \u001b[0m |\n",
            "| \u001b[0m 40      \u001b[0m | \u001b[0m-49.95   \u001b[0m | \u001b[0m-2.137   \u001b[0m | \u001b[0m 2.0     \u001b[0m |\n",
            "| \u001b[0m 41      \u001b[0m | \u001b[0m-1.969   \u001b[0m | \u001b[0m 0.9206  \u001b[0m | \u001b[0m 0.8234  \u001b[0m |\n",
            "| \u001b[0m 42      \u001b[0m | \u001b[0m-1.891   \u001b[0m | \u001b[0m 1.1     \u001b[0m | \u001b[0m-0.2341  \u001b[0m |\n",
            "| \u001b[0m 43      \u001b[0m | \u001b[0m 0.2384  \u001b[0m | \u001b[0m-0.2403  \u001b[0m | \u001b[0m-0.4108  \u001b[0m |\n",
            "| \u001b[0m 44      \u001b[0m | \u001b[0m 0.2282  \u001b[0m | \u001b[0m 0.15    \u001b[0m | \u001b[0m 0.3187  \u001b[0m |\n",
            "| \u001b[0m 45      \u001b[0m | \u001b[0m-0.3992  \u001b[0m | \u001b[0m-1.817   \u001b[0m | \u001b[0m 0.9835  \u001b[0m |\n",
            "| \u001b[0m 46      \u001b[0m | \u001b[0m 0.1486  \u001b[0m | \u001b[0m 0.6168  \u001b[0m | \u001b[0m-0.8213  \u001b[0m |\n",
            "| \u001b[0m 47      \u001b[0m | \u001b[0m-2.793   \u001b[0m | \u001b[0m-1.356   \u001b[0m | \u001b[0m-0.8745  \u001b[0m |\n",
            "| \u001b[0m 48      \u001b[0m | \u001b[0m-3.61    \u001b[0m | \u001b[0m 2.069   \u001b[0m | \u001b[0m-0.355   \u001b[0m |\n",
            "| \u001b[0m 49      \u001b[0m | \u001b[0m-5.146   \u001b[0m | \u001b[0m-1.767   \u001b[0m | \u001b[0m-1.102   \u001b[0m |\n",
            "| \u001b[0m 50      \u001b[0m | \u001b[0m-1.941   \u001b[0m | \u001b[0m-0.9373  \u001b[0m | \u001b[0m-0.4123  \u001b[0m |\n",
            "| \u001b[0m 51      \u001b[0m | \u001b[0m-0.7501  \u001b[0m | \u001b[0m 1.551   \u001b[0m | \u001b[0m-0.4542  \u001b[0m |\n",
            "| \u001b[95m 52      \u001b[0m | \u001b[95m 0.9671  \u001b[0m | \u001b[95m-0.08631 \u001b[0m | \u001b[95m 0.7963  \u001b[0m |\n",
            "| \u001b[0m 53      \u001b[0m | \u001b[0m-2.418   \u001b[0m | \u001b[0m 1.281   \u001b[0m | \u001b[0m 0.3281  \u001b[0m |\n",
            "| \u001b[95m 54      \u001b[0m | \u001b[95m 1.024   \u001b[0m | \u001b[95m 0.08125 \u001b[0m | \u001b[95m-0.6817  \u001b[0m |\n",
            "| \u001b[0m 55      \u001b[0m | \u001b[0m-2.417   \u001b[0m | \u001b[0m-1.824   \u001b[0m | \u001b[0m-0.04767 \u001b[0m |\n",
            "| \u001b[0m 56      \u001b[0m | \u001b[0m-1.936   \u001b[0m | \u001b[0m 1.408   \u001b[0m | \u001b[0m-1.117   \u001b[0m |\n",
            "| \u001b[0m 57      \u001b[0m | \u001b[0m-3.14    \u001b[0m | \u001b[0m 0.8305  \u001b[0m | \u001b[0m-1.184   \u001b[0m |\n",
            "| \u001b[0m 58      \u001b[0m | \u001b[0m-1.073   \u001b[0m | \u001b[0m-0.323   \u001b[0m | \u001b[0m-1.039   \u001b[0m |\n",
            "| \u001b[0m 59      \u001b[0m | \u001b[0m 0.02167 \u001b[0m | \u001b[0m-1.535   \u001b[0m | \u001b[0m 0.8017  \u001b[0m |\n",
            "| \u001b[0m 60      \u001b[0m | \u001b[0m-1.561   \u001b[0m | \u001b[0m-1.25    \u001b[0m | \u001b[0m 0.3399  \u001b[0m |\n",
            "| \u001b[0m 61      \u001b[0m | \u001b[0m-0.999   \u001b[0m | \u001b[0m 0.641   \u001b[0m | \u001b[0m-0.2145  \u001b[0m |\n",
            "| \u001b[0m 62      \u001b[0m | \u001b[0m 0.02621 \u001b[0m | \u001b[0m 0.4208  \u001b[0m | \u001b[0m 0.6015  \u001b[0m |\n",
            "| \u001b[0m 63      \u001b[0m | \u001b[0m-0.05012 \u001b[0m | \u001b[0m-0.1118  \u001b[0m | \u001b[0m-0.02294 \u001b[0m |\n",
            "| \u001b[0m 64      \u001b[0m | \u001b[0m-3.11    \u001b[0m | \u001b[0m-0.8697  \u001b[0m | \u001b[0m-1.029   \u001b[0m |\n",
            "| \u001b[0m 65      \u001b[0m | \u001b[0m-4.961   \u001b[0m | \u001b[0m 1.674   \u001b[0m | \u001b[0m 1.104   \u001b[0m |\n",
            "| \u001b[0m 66      \u001b[0m | \u001b[0m-2.332   \u001b[0m | \u001b[0m-0.8419  \u001b[0m | \u001b[0m 1.128   \u001b[0m |\n",
            "| \u001b[0m 67      \u001b[0m | \u001b[0m 0.5208  \u001b[0m | \u001b[0m-0.2393  \u001b[0m | \u001b[0m-0.7934  \u001b[0m |\n",
            "| \u001b[0m 68      \u001b[0m | \u001b[0m 0.7411  \u001b[0m | \u001b[0m-0.1233  \u001b[0m | \u001b[0m 0.4952  \u001b[0m |\n",
            "| \u001b[0m 69      \u001b[0m | \u001b[0m-0.07536 \u001b[0m | \u001b[0m 1.501   \u001b[0m | \u001b[0m-0.8424  \u001b[0m |\n",
            "| \u001b[0m 70      \u001b[0m | \u001b[0m-0.5242  \u001b[0m | \u001b[0m-0.8033  \u001b[0m | \u001b[0m 0.5446  \u001b[0m |\n",
            "| \u001b[0m 71      \u001b[0m | \u001b[0m-3.507   \u001b[0m | \u001b[0m 1.297   \u001b[0m | \u001b[0m 0.9817  \u001b[0m |\n",
            "| \u001b[0m 72      \u001b[0m | \u001b[0m-0.5362  \u001b[0m | \u001b[0m 0.3771  \u001b[0m | \u001b[0m 0.04966 \u001b[0m |\n",
            "| \u001b[0m 73      \u001b[0m | \u001b[0m-2.629   \u001b[0m | \u001b[0m 0.6269  \u001b[0m | \u001b[0m 1.072   \u001b[0m |\n",
            "| \u001b[0m 74      \u001b[0m | \u001b[0m 0.744   \u001b[0m | \u001b[0m 0.3659  \u001b[0m | \u001b[0m-0.6792  \u001b[0m |\n",
            "| \u001b[0m 75      \u001b[0m | \u001b[0m 0.8068  \u001b[0m | \u001b[0m 0.1329  \u001b[0m | \u001b[0m 0.6333  \u001b[0m |\n",
            "| \u001b[0m 76      \u001b[0m | \u001b[0m-0.8504  \u001b[0m | \u001b[0m-0.5243  \u001b[0m | \u001b[0m-0.2451  \u001b[0m |\n",
            "| \u001b[0m 77      \u001b[0m | \u001b[0m-1.148   \u001b[0m | \u001b[0m 1.067   \u001b[0m | \u001b[0m-0.9835  \u001b[0m |\n",
            "| \u001b[0m 78      \u001b[0m | \u001b[0m-1.032   \u001b[0m | \u001b[0m-0.07882 \u001b[0m | \u001b[0m 1.106   \u001b[0m |\n",
            "| \u001b[0m 79      \u001b[0m | \u001b[0m-0.3193  \u001b[0m | \u001b[0m 0.422   \u001b[0m | \u001b[0m-1.012   \u001b[0m |\n",
            "| \u001b[0m 80      \u001b[0m | \u001b[0m-2.375   \u001b[0m | \u001b[0m 1.784   \u001b[0m | \u001b[0m 0.4114  \u001b[0m |\n",
            "| \u001b[0m 81      \u001b[0m | \u001b[0m-0.5078  \u001b[0m | \u001b[0m 0.7959  \u001b[0m | \u001b[0m-0.5447  \u001b[0m |\n",
            "| \u001b[0m 82      \u001b[0m | \u001b[0m-0.2789  \u001b[0m | \u001b[0m-0.7927  \u001b[0m | \u001b[0m 0.8443  \u001b[0m |\n",
            "| \u001b[0m 83      \u001b[0m | \u001b[0m-0.3465  \u001b[0m | \u001b[0m 1.778   \u001b[0m | \u001b[0m-0.9892  \u001b[0m |\n",
            "| \u001b[0m 84      \u001b[0m | \u001b[0m-2.234   \u001b[0m | \u001b[0m-1.389   \u001b[0m | \u001b[0m-0.5077  \u001b[0m |\n",
            "| \u001b[0m 85      \u001b[0m | \u001b[0m-1.468   \u001b[0m | \u001b[0m-1.57    \u001b[0m | \u001b[0m 0.2491  \u001b[0m |\n",
            "| \u001b[0m 86      \u001b[0m | \u001b[0m 0.4107  \u001b[0m | \u001b[0m-0.007272\u001b[0m | \u001b[0m-0.3421  \u001b[0m |\n",
            "| \u001b[0m 87      \u001b[0m | \u001b[0m 0.8577  \u001b[0m | \u001b[0m 0.2439  \u001b[0m | \u001b[0m-0.8164  \u001b[0m |\n",
            "| \u001b[0m 88      \u001b[0m | \u001b[0m 0.5615  \u001b[0m | \u001b[0m-0.2592  \u001b[0m | \u001b[0m 0.9065  \u001b[0m |\n",
            "| \u001b[0m 89      \u001b[0m | \u001b[0m-0.7984  \u001b[0m | \u001b[0m-1.651   \u001b[0m | \u001b[0m 1.053   \u001b[0m |\n",
            "| \u001b[0m 90      \u001b[0m | \u001b[0m 0.7288  \u001b[0m | \u001b[0m-0.0396  \u001b[0m | \u001b[0m-0.8604  \u001b[0m |\n",
            "| \u001b[0m 91      \u001b[0m | \u001b[0m 0.5427  \u001b[0m | \u001b[0m 0.06634 \u001b[0m | \u001b[0m 0.899   \u001b[0m |\n",
            "| \u001b[0m 92      \u001b[0m | \u001b[0m 0.8523  \u001b[0m | \u001b[0m-0.2731  \u001b[0m | \u001b[0m 0.6375  \u001b[0m |\n",
            "| \u001b[0m 93      \u001b[0m | \u001b[0m 0.8546  \u001b[0m | \u001b[0m-0.07587 \u001b[0m | \u001b[0m-0.6011  \u001b[0m |\n",
            "| \u001b[0m 94      \u001b[0m | \u001b[0m-2.039   \u001b[0m | \u001b[0m-1.033   \u001b[0m | \u001b[0m-0.7294  \u001b[0m |\n",
            "| \u001b[0m 95      \u001b[0m | \u001b[0m 0.1237  \u001b[0m | \u001b[0m-0.1802  \u001b[0m | \u001b[0m 0.2352  \u001b[0m |\n",
            "| \u001b[0m 96      \u001b[0m | \u001b[0m 0.7845  \u001b[0m | \u001b[0m 0.1793  \u001b[0m | \u001b[0m-0.5339  \u001b[0m |\n",
            "| \u001b[0m 97      \u001b[0m | \u001b[0m 0.1274  \u001b[0m | \u001b[0m-1.786   \u001b[0m | \u001b[0m 0.7656  \u001b[0m |\n",
            "| \u001b[0m 98      \u001b[0m | \u001b[0m-0.05512 \u001b[0m | \u001b[0m 0.1182  \u001b[0m | \u001b[0m-0.002634\u001b[0m |\n",
            "| \u001b[0m 99      \u001b[0m | \u001b[0m 0.2758  \u001b[0m | \u001b[0m-0.4221  \u001b[0m | \u001b[0m 0.4847  \u001b[0m |\n",
            "| \u001b[0m 100     \u001b[0m | \u001b[0m 0.1114  \u001b[0m | \u001b[0m 0.4811  \u001b[0m | \u001b[0m-0.4756  \u001b[0m |\n",
            "| \u001b[0m 101     \u001b[0m | \u001b[0m-0.3749  \u001b[0m | \u001b[0m-1.522   \u001b[0m | \u001b[0m 0.5765  \u001b[0m |\n",
            "| \u001b[0m 102     \u001b[0m | \u001b[0m 0.9963  \u001b[0m | \u001b[0m-0.0426  \u001b[0m | \u001b[0m 0.6498  \u001b[0m |\n",
            "| \u001b[0m 103     \u001b[0m | \u001b[0m 0.1534  \u001b[0m | \u001b[0m-0.3806  \u001b[0m | \u001b[0m-0.5963  \u001b[0m |\n",
            "| \u001b[0m 104     \u001b[0m | \u001b[0m-0.5737  \u001b[0m | \u001b[0m 0.5865  \u001b[0m | \u001b[0m 0.7302  \u001b[0m |\n",
            "| \u001b[0m 105     \u001b[0m | \u001b[0m 0.1822  \u001b[0m | \u001b[0m 1.69    \u001b[0m | \u001b[0m-0.847   \u001b[0m |\n",
            "| \u001b[0m 106     \u001b[0m | \u001b[0m 0.8772  \u001b[0m | \u001b[0m 0.08263 \u001b[0m | \u001b[0m 0.7679  \u001b[0m |\n",
            "| \u001b[0m 107     \u001b[0m | \u001b[0m 0.9382  \u001b[0m | \u001b[0m 0.08503 \u001b[0m | \u001b[0m-0.8122  \u001b[0m |\n",
            "| \u001b[0m 108     \u001b[0m | \u001b[0m 0.9705  \u001b[0m | \u001b[0m 0.2081  \u001b[0m | \u001b[0m-0.6869  \u001b[0m |\n",
            "| \u001b[0m 109     \u001b[0m | \u001b[0m 0.9692  \u001b[0m | \u001b[0m-0.2105  \u001b[0m | \u001b[0m 0.7498  \u001b[0m |\n",
            "| \u001b[0m 110     \u001b[0m | \u001b[0m 0.7235  \u001b[0m | \u001b[0m 0.03296 \u001b[0m | \u001b[0m 0.4971  \u001b[0m |\n",
            "| \u001b[0m 111     \u001b[0m | \u001b[0m 0.8953  \u001b[0m | \u001b[0m-0.08201 \u001b[0m | \u001b[0m-0.751   \u001b[0m |\n",
            "| \u001b[0m 112     \u001b[0m | \u001b[0m 0.9689  \u001b[0m | \u001b[0m-0.1538  \u001b[0m | \u001b[0m 0.6369  \u001b[0m |\n",
            "| \u001b[0m 113     \u001b[0m | \u001b[0m 0.8742  \u001b[0m | \u001b[0m 0.04564 \u001b[0m | \u001b[0m-0.5576  \u001b[0m |\n",
            "| \u001b[0m 114     \u001b[0m | \u001b[0m-0.3271  \u001b[0m | \u001b[0m 0.4131  \u001b[0m | \u001b[0m 0.3562  \u001b[0m |\n",
            "| \u001b[95m 115     \u001b[0m | \u001b[95m 1.03    \u001b[0m | \u001b[95m-0.09639 \u001b[0m | \u001b[95m 0.7254  \u001b[0m |\n",
            "| \u001b[0m 116     \u001b[0m | \u001b[0m-0.9626  \u001b[0m | \u001b[0m 1.978   \u001b[0m | \u001b[0m-0.7915  \u001b[0m |\n",
            "| \u001b[0m 117     \u001b[0m | \u001b[0m 1.002   \u001b[0m | \u001b[0m 0.01578 \u001b[0m | \u001b[0m-0.6764  \u001b[0m |\n",
            "| \u001b[0m 118     \u001b[0m | \u001b[0m 0.8066  \u001b[0m | \u001b[0m-0.3315  \u001b[0m | \u001b[0m 0.7694  \u001b[0m |\n",
            "| \u001b[0m 119     \u001b[0m | \u001b[0m 1.009   \u001b[0m | \u001b[0m-0.02399 \u001b[0m | \u001b[0m 0.7342  \u001b[0m |\n",
            "| \u001b[0m 120     \u001b[0m | \u001b[0m 1.013   \u001b[0m | \u001b[0m 0.149   \u001b[0m | \u001b[0m-0.7402  \u001b[0m |\n",
            "| \u001b[0m 121     \u001b[0m | \u001b[0m 1.023   \u001b[0m | \u001b[0m 0.04556 \u001b[0m | \u001b[0m-0.7187  \u001b[0m |\n",
            "| \u001b[0m 122     \u001b[0m | \u001b[0m 0.967   \u001b[0m | \u001b[0m 0.03073 \u001b[0m | \u001b[0m 0.6737  \u001b[0m |\n",
            "| \u001b[0m 123     \u001b[0m | \u001b[0m 0.6427  \u001b[0m | \u001b[0m 0.3966  \u001b[0m | \u001b[0m-0.8116  \u001b[0m |\n",
            "| \u001b[0m 124     \u001b[0m | \u001b[0m 0.9933  \u001b[0m | \u001b[0m 0.1303  \u001b[0m | \u001b[0m-0.65    \u001b[0m |\n",
            "| \u001b[0m 125     \u001b[0m | \u001b[0m 1.022   \u001b[0m | \u001b[0m-0.1393  \u001b[0m | \u001b[0m 0.7103  \u001b[0m |\n",
            "=================================================\n",
            "{'target': 1.0301962172673473, 'params': {'x': -0.09639343210742446, 'y': 0.7253759043013797}}\n"
          ]
        }
      ]
    }
  ]
}